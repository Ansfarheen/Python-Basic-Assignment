{
 "cells": [
  {
   "cell_type": "markdown",
   "id": "086a01a8",
   "metadata": {},
   "source": [
    "Q1. Why are functions advantageous to have in your programs?\n",
    "\n",
    "Ans. The advantages of functions are:\n",
    "     1. Avoid repetition of codes.\n",
    "     2. Increases program readability,reusability and modularity.\n",
    "     3. Decomposing complex problems into simpler pieces.\n",
    "     4. Improving clarity of the code.\n",
    "     5. Makes our program more readable."
   ]
  },
  {
   "cell_type": "markdown",
   "id": "8e2519c9",
   "metadata": {},
   "source": [
    "Q2. When does the code in a function run: when it's specified or when it's called?\n",
    "\n",
    "Ans. When function is called , it runs."
   ]
  },
  {
   "cell_type": "raw",
   "id": "53cc19f4",
   "metadata": {},
   "source": [
    "Q3. What statement creates a function?\n",
    "\n",
    "Ans. To create a function, we should use def keyword."
   ]
  },
  {
   "cell_type": "code",
   "execution_count": 1,
   "id": "d0b1aeeb",
   "metadata": {},
   "outputs": [],
   "source": [
    "# Demonstrate creation of function\n",
    "def function_name():\n",
    "    pass"
   ]
  },
  {
   "cell_type": "markdown",
   "id": "d675741f",
   "metadata": {},
   "source": [
    "Q4. What is the difference between a function and a function call?\n",
    "\n",
    "Ans. Functions is a block of related statements that does a particular task and returns a result. \n",
    "     Function call is a statement which is used to execute a function."
   ]
  },
  {
   "cell_type": "code",
   "execution_count": 2,
   "id": "fc4a6f67",
   "metadata": {},
   "outputs": [
    {
     "data": {
      "text/plain": [
       "7"
      ]
     },
     "execution_count": 2,
     "metadata": {},
     "output_type": "execute_result"
    }
   ],
   "source": [
    "# Function\n",
    "def fun(a,b):\n",
    "    return a+b\n",
    "\n",
    "#Function call\n",
    "fun(3,4)\n",
    "    "
   ]
  },
  {
   "cell_type": "markdown",
   "id": "a651cce0",
   "metadata": {},
   "source": [
    "Q5. How many global scopes are there in a Python program? How many local scopes?\n",
    "\n",
    "Ans. There is one global scope and one local scope in a python program. Inside a function there is local scope and outside a function there is global scope.\n",
    "     "
   ]
  },
  {
   "cell_type": "markdown",
   "id": "50cc9ffb",
   "metadata": {},
   "source": [
    "Q6. What happens to variables in a local scope when the function call returns?\n",
    "\n",
    "Ans. When the function returns, local scope gets destroyed and all the variables in it are forgotten."
   ]
  },
  {
   "cell_type": "markdown",
   "id": "0ab7b872",
   "metadata": {},
   "source": [
    "Q7. What is the concept of a return value? Is it possible to have a return value in an expression?\n",
    "\n",
    "Ans. Retuen value is a value that a function evaluates to. Yes it is possible to have a return value in an expression like any other value."
   ]
  },
  {
   "cell_type": "markdown",
   "id": "0c1186fd",
   "metadata": {},
   "source": [
    "Q8. If a function does not have a return statement, what is the return value of a call to that function?\n",
    "\n",
    "Ans. If a function does not have a return statement, the return value of a call to that function is None.\n"
   ]
  },
  {
   "cell_type": "code",
   "execution_count": 5,
   "id": "3dd3942c",
   "metadata": {},
   "outputs": [
    {
     "name": "stdout",
     "output_type": "stream",
     "text": [
      "None\n"
     ]
    }
   ],
   "source": [
    "def fun():\n",
    "    a=9\n",
    "res= fun()\n",
    "print(res)"
   ]
  },
  {
   "cell_type": "markdown",
   "id": "015c47cd",
   "metadata": {},
   "source": [
    "Q9. How do you make a function variable refer to the global variable?\n",
    "\n",
    "Ans. By using global keyword before variable , we can refer to global variable inside a function."
   ]
  },
  {
   "cell_type": "code",
   "execution_count": 6,
   "id": "a992ecad",
   "metadata": {},
   "outputs": [
    {
     "name": "stdout",
     "output_type": "stream",
     "text": [
      "7\n"
     ]
    }
   ],
   "source": [
    "a=10\n",
    "\n",
    "def fun():\n",
    "    global a\n",
    "    a=7\n",
    "\n",
    "fun()\n",
    "print(a)\n",
    "    \n"
   ]
  },
  {
   "cell_type": "markdown",
   "id": "9b13941e",
   "metadata": {},
   "source": [
    "Q10. What is the data type of None?\n",
    "\n",
    "Ans. The data type of None is NoneType."
   ]
  },
  {
   "cell_type": "code",
   "execution_count": 7,
   "id": "ce6dfd5e",
   "metadata": {},
   "outputs": [
    {
     "data": {
      "text/plain": [
       "NoneType"
      ]
     },
     "execution_count": 7,
     "metadata": {},
     "output_type": "execute_result"
    }
   ],
   "source": [
    "type(None)"
   ]
  },
  {
   "cell_type": "markdown",
   "id": "d1da4b2c",
   "metadata": {},
   "source": [
    "Q11. What does the sentence import areallyourpetsnamederic do?\n",
    "\n",
    "Ans. That import statement imports a module nareallyourpetsnamederic in our program and we will be able to access all its variables and methods in our program."
   ]
  },
  {
   "cell_type": "markdown",
   "id": "6e4a3c95",
   "metadata": {},
   "source": [
    "Q12. If you had a bacon() feature in a spam module, what would you call it after importing spam?\n",
    "\n",
    "Ans. bacon() can be called by using:\n",
    "spam.bacon()"
   ]
  },
  {
   "cell_type": "markdown",
   "id": "e641027c",
   "metadata": {},
   "source": [
    "Q13. What can you do to save a programme from crashing if it encounters an error?\n",
    "\n",
    "Ans. We can use try except block in our program. We will place the line of code that might cause an error in a try clause  and in except block , we can catch the error."
   ]
  },
  {
   "cell_type": "markdown",
   "id": "edea193c",
   "metadata": {},
   "source": [
    "Q14. What is the purpose of the try clause? What is the purpose of the except clause?\n",
    "\n",
    "Ans. In try block, we place the code that could potentially cause an error.\n",
    "     In except block, we place the code which will be executed if an error occurs like print statement or logging statement \n",
    "     to tell user that an error occurs."
   ]
  },
  {
   "cell_type": "code",
   "execution_count": 8,
   "id": "01a8bf0f",
   "metadata": {},
   "outputs": [
    {
     "name": "stdout",
     "output_type": "stream",
     "text": [
      "An error has been occurred \n"
     ]
    }
   ],
   "source": [
    "a,b=9,0\n",
    "try:\n",
    "    c=a/b\n",
    "except:\n",
    "    print('An error has been occurred ')\n",
    "    "
   ]
  }
 ],
 "metadata": {
  "kernelspec": {
   "display_name": "Python 3",
   "language": "python",
   "name": "python3"
  },
  "language_info": {
   "codemirror_mode": {
    "name": "ipython",
    "version": 3
   },
   "file_extension": ".py",
   "mimetype": "text/x-python",
   "name": "python",
   "nbconvert_exporter": "python",
   "pygments_lexer": "ipython3",
   "version": "3.8.8"
  }
 },
 "nbformat": 4,
 "nbformat_minor": 5
}
