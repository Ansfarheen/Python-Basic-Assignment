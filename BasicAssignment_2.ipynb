{
 "cells": [
  {
   "cell_type": "markdown",
   "id": "9c9f98c0",
   "metadata": {},
   "source": [
    "Q1. What are the two values of the Boolean data type? How do you write them?\n",
    "\n",
    "Ans. The two values of the Boolean datatype is True, False. We write them as True and False."
   ]
  },
  {
   "cell_type": "markdown",
   "id": "8326b7ae",
   "metadata": {},
   "source": [
    "Q2. What are the three different types of Boolean operators?\n",
    "\n",
    "Ans. Three different types of Boolean operators are:\n",
    "     1 and\n",
    "     2 or\n",
    "     3 not"
   ]
  },
  {
   "cell_type": "markdown",
   "id": "af771523",
   "metadata": {},
   "source": [
    "Q3. Make a list of each Boolean operator's truth tables (i.e. every possible combination of Boolean values for the operator and what it evaluate ).\n",
    "\n",
    "Ans. and operator: The Boolean and operator returns False if any one of the inputs is False else returns True.\n",
    "     A      B      A and B\n",
    "     True   True   True\n",
    "     True   False  False\n",
    "     False  True   False\n",
    "     False  False  False\n",
    "     \n",
    "     or operator: The Boolean or operator returns True if any one of the inputs is True else returns False.\n",
    "     A      B      A or B\n",
    "     True   True   True\n",
    "     True   False  True\n",
    "     False  True   True\n",
    "     False  False  False\n",
    "     \n",
    "     not operator: The Boolean not operator only require one argument and returns the negatation of the argument i.e.            returns the True for False and False for True.\n",
    "      A       not A\n",
    "      True    False\n",
    "      False   True\n",
    "     \n",
    "    "
   ]
  },
  {
   "cell_type": "markdown",
   "id": "6d6917ee",
   "metadata": {},
   "source": [
    "Q4. What are the values of the following expressions?\n",
    "    (5 > 4) and (3 == 5)               =>  False\n",
    "    not (5 > 4)                        =>  False\n",
    "    (5 > 4) or (3 == 5)                =>  True\n",
    "    not ((5 > 4) or (3 == 5))          =>  False\n",
    "    (True and True) and (True == False)=>  False\n",
    "    (not False) or (not True)          =>  True"
   ]
  },
  {
   "cell_type": "code",
   "execution_count": 1,
   "id": "fc8da3dc",
   "metadata": {},
   "outputs": [
    {
     "data": {
      "text/plain": [
       "False"
      ]
     },
     "execution_count": 1,
     "metadata": {},
     "output_type": "execute_result"
    }
   ],
   "source": [
    "(5 > 4) and (3 == 5) "
   ]
  },
  {
   "cell_type": "code",
   "execution_count": 2,
   "id": "768fd9cd",
   "metadata": {},
   "outputs": [
    {
     "data": {
      "text/plain": [
       "False"
      ]
     },
     "execution_count": 2,
     "metadata": {},
     "output_type": "execute_result"
    }
   ],
   "source": [
    "not (5 > 4) "
   ]
  },
  {
   "cell_type": "code",
   "execution_count": 3,
   "id": "ac0e77bc",
   "metadata": {},
   "outputs": [
    {
     "data": {
      "text/plain": [
       "True"
      ]
     },
     "execution_count": 3,
     "metadata": {},
     "output_type": "execute_result"
    }
   ],
   "source": [
    "(5 > 4) or (3 == 5) "
   ]
  },
  {
   "cell_type": "code",
   "execution_count": 4,
   "id": "65d9adbe",
   "metadata": {},
   "outputs": [
    {
     "data": {
      "text/plain": [
       "False"
      ]
     },
     "execution_count": 4,
     "metadata": {},
     "output_type": "execute_result"
    }
   ],
   "source": [
    "not ((5 > 4) or (3 == 5)) "
   ]
  },
  {
   "cell_type": "code",
   "execution_count": 5,
   "id": "eda6d94a",
   "metadata": {},
   "outputs": [
    {
     "data": {
      "text/plain": [
       "False"
      ]
     },
     "execution_count": 5,
     "metadata": {},
     "output_type": "execute_result"
    }
   ],
   "source": [
    "(True and True) and (True == False)"
   ]
  },
  {
   "cell_type": "code",
   "execution_count": 6,
   "id": "eeabe2be",
   "metadata": {},
   "outputs": [
    {
     "data": {
      "text/plain": [
       "True"
      ]
     },
     "execution_count": 6,
     "metadata": {},
     "output_type": "execute_result"
    }
   ],
   "source": [
    "(not False) or (not True) "
   ]
  },
  {
   "cell_type": "markdown",
   "id": "ee3eacae",
   "metadata": {},
   "source": [
    "Q5. What are the six comparison operators?\n",
    "\n",
    "Ans. 1. == operator: If the values of two operands are equal, then the condition becomes True.\n",
    "     2. != operator: If values of two operands are not equal, then condition becomes True.\n",
    "     3. > operator: If the value of left operand is greater than the value of right operand, then condition becomes True.\n",
    "     4. < operator: If the value of left operand is less than the value of right operand, then condition becomes True.\n",
    "     5. >= operator: If the value of left operand is greater than or equal to the value of right operand, then condition           becomes True.\n",
    "     6. <= operator: If the value of left operand is less than or equal to the value of right operand, then condition               becomes True."
   ]
  },
  {
   "cell_type": "markdown",
   "id": "b601e88c",
   "metadata": {},
   "source": [
    "Q6. How do you tell the difference between the equal to and assignment operators?Describe a condition and when you would use    one.\n",
    "\n",
    "Ans. Equal to(\"==\")operator is used to check if two values are equal or not  whereas assignment(\"=\") operator is used to assign value of right side of expression to left side operand.\n",
    "Equal operator is used to check whether two values are equal or not and retuens True or False accordingly whereas assignment operator is used to assign the right side of expression to left side operand."
   ]
  },
  {
   "cell_type": "code",
   "execution_count": 7,
   "id": "e705af44",
   "metadata": {},
   "outputs": [
    {
     "data": {
      "text/plain": [
       "True"
      ]
     },
     "execution_count": 7,
     "metadata": {},
     "output_type": "execute_result"
    }
   ],
   "source": [
    "# Assignment operator('=')\n",
    "a=3\n",
    "\n",
    "#Equal to operator('==')\n",
    "\n",
    "a==3"
   ]
  },
  {
   "cell_type": "markdown",
   "id": "f311f754",
   "metadata": {},
   "source": [
    "Q7. Identify the three blocks in this code:\n",
    "spam = 0\n",
    "if spam == 10:\n",
    "print('eggs')\n",
    "if spam > 5:\n",
    "print('bacon')\n",
    "else:\n",
    "print('ham')\n",
    "print('spam')\n",
    "print('spam')\n",
    "\n",
    "Ans. \n",
    "First block is:\n",
    "if spam == 10:\n",
    "    print('eggs')\n",
    "\n",
    "Second block is:\n",
    "if spam > 5:\n",
    "    print('bacon')\n",
    "    \n",
    "Third block is:\n",
    "else:\n",
    "    print('ham')\n",
    "    print('spam')\n",
    "    print('spam')\n"
   ]
  },
  {
   "cell_type": "code",
   "execution_count": 8,
   "id": "309370a9",
   "metadata": {},
   "outputs": [
    {
     "name": "stdout",
     "output_type": "stream",
     "text": [
      "ham\n",
      "spam\n",
      "spam\n"
     ]
    }
   ],
   "source": [
    "spam = 0\n",
    "\n",
    "# First Block\n",
    "if spam == 10:\n",
    "    print('eggs')\n",
    "    \n",
    "# Second block\n",
    "if spam > 5:\n",
    "    print('bacon')\n",
    "    \n",
    "# Third block\n",
    "else:\n",
    "    print('ham')\n",
    "    print('spam')\n",
    "    print('spam')"
   ]
  },
  {
   "cell_type": "markdown",
   "id": "f103a9ed",
   "metadata": {},
   "source": [
    "Q8. Write code that prints Hello if 1 is stored in spam, prints Howdy if 2 is stored in spam, and prints Greetings! if anything else is stored in spam.\n"
   ]
  },
  {
   "cell_type": "code",
   "execution_count": 9,
   "id": "415e1adb",
   "metadata": {},
   "outputs": [
    {
     "name": "stdout",
     "output_type": "stream",
     "text": [
      "Enter the value of spam3\n",
      "Greetings!\n"
     ]
    }
   ],
   "source": [
    "# Answer of Question 8\n",
    "\n",
    "spam=input('Enter the value of spam')\n",
    "if spam=='1':\n",
    "    print('Hello')\n",
    "elif spam=='2':\n",
    "    print('Howdy')\n",
    "else:\n",
    "    print('Greetings!')"
   ]
  },
  {
   "cell_type": "markdown",
   "id": "d93bbe59",
   "metadata": {},
   "source": [
    "Q9.If your programme is stuck in an endless loop, what keys you’ll press?\n",
    "\n",
    "Ans. Press cntrl+C to exit from the endless loop."
   ]
  },
  {
   "cell_type": "markdown",
   "id": "36a65a37",
   "metadata": {},
   "source": [
    "Q10. How can you tell the difference between break and continue?\n",
    "\n",
    "Ans. break eliminates the execution of remaining iteration of loop based on a condition while continue terminate only the current iteration of loop.\n",
    "break leaves the loop while continue jumps for next iteration.\n"
   ]
  },
  {
   "cell_type": "code",
   "execution_count": 15,
   "id": "1fdae9a3",
   "metadata": {},
   "outputs": [
    {
     "name": "stdout",
     "output_type": "stream",
     "text": [
      "2\n"
     ]
    }
   ],
   "source": [
    "# break example : break will come out of the loop when i==3 is True.\n",
    "\n",
    "a=[2,3,43,3,1,2,'hello',34]\n",
    "for i in a:\n",
    "    if i==3:\n",
    "        break\n",
    "    print(i)\n",
    "        "
   ]
  },
  {
   "cell_type": "code",
   "execution_count": 16,
   "id": "5f507f5e",
   "metadata": {},
   "outputs": [
    {
     "name": "stdout",
     "output_type": "stream",
     "text": [
      "2\n",
      "43\n",
      "1\n",
      "2\n",
      "hello\n",
      "34\n"
     ]
    }
   ],
   "source": [
    "# continue example : continue will terminate the iteation when i==3 is True and doesnot print(i) in that iteration.\n",
    "\n",
    "a=[2,3,43,3,1,2,'hello',34]\n",
    "for i in a:\n",
    "    if i==3:\n",
    "        continue\n",
    "    print(i)\n",
    "        \n"
   ]
  },
  {
   "cell_type": "markdown",
   "id": "f6d3a30e",
   "metadata": {},
   "source": [
    "Q11. In a for loop, what is the difference between range(10), range(0, 10), and range(0, 10, 1)?\n",
    "\n",
    "Ans. According to me, there is no difference.\n"
   ]
  },
  {
   "cell_type": "code",
   "execution_count": 17,
   "id": "355c6a57",
   "metadata": {},
   "outputs": [
    {
     "name": "stdout",
     "output_type": "stream",
     "text": [
      "0 1 2 3 4 5 6 7 8 9 "
     ]
    }
   ],
   "source": [
    "for i in range(10):\n",
    "    print(i,end=' ')"
   ]
  },
  {
   "cell_type": "code",
   "execution_count": 18,
   "id": "a3c98486",
   "metadata": {},
   "outputs": [
    {
     "name": "stdout",
     "output_type": "stream",
     "text": [
      "0 1 2 3 4 5 6 7 8 9 "
     ]
    }
   ],
   "source": [
    "for i in range(0, 10):\n",
    "    print(i,end=' ')"
   ]
  },
  {
   "cell_type": "code",
   "execution_count": 19,
   "id": "0487dec0",
   "metadata": {},
   "outputs": [
    {
     "name": "stdout",
     "output_type": "stream",
     "text": [
      "0 1 2 3 4 5 6 7 8 9 "
     ]
    }
   ],
   "source": [
    "for i in range(0, 10, 1):\n",
    "    print(i,end=' ')"
   ]
  },
  {
   "cell_type": "markdown",
   "id": "52a4f070",
   "metadata": {},
   "source": [
    "Q12. Write a short program that prints the numbers 1 to 10 using a for loop. Then write an equivalent program that prints the numbers 1 to 10 using a while loop."
   ]
  },
  {
   "cell_type": "code",
   "execution_count": 20,
   "id": "c6c38aa0",
   "metadata": {},
   "outputs": [
    {
     "name": "stdout",
     "output_type": "stream",
     "text": [
      "print the numbers 1 to 10 using a for loop\n",
      "1\n",
      "2\n",
      "3\n",
      "4\n",
      "5\n",
      "6\n",
      "7\n",
      "8\n",
      "9\n",
      "10\n",
      "print the numbers 1 to 10 using a while loop\n",
      "1\n",
      "2\n",
      "3\n",
      "4\n",
      "5\n",
      "6\n",
      "7\n",
      "8\n",
      "9\n",
      "10\n"
     ]
    }
   ],
   "source": [
    "# Ans 12 prints the numbers 1 to 10 using a for loop\n",
    "print('print the numbers 1 to 10 using a for loop')\n",
    "for i in range(1,11):\n",
    "    print(i)\n",
    "    \n",
    "# prints the numbers 1 to 10 using a while loop.\n",
    "print('print the numbers 1 to 10 using a while loop')\n",
    "i=1\n",
    "while i<11:\n",
    "    print(i)\n",
    "    i+=1\n"
   ]
  },
  {
   "cell_type": "markdown",
   "id": "4d855ecc",
   "metadata": {},
   "source": [
    "Q13. If you had a function named bacon() inside a module named spam, how would you call it after importing spam?\n",
    "\n",
    "Ans. spam.bacon()\n"
   ]
  }
 ],
 "metadata": {
  "kernelspec": {
   "display_name": "Python 3",
   "language": "python",
   "name": "python3"
  },
  "language_info": {
   "codemirror_mode": {
    "name": "ipython",
    "version": 3
   },
   "file_extension": ".py",
   "mimetype": "text/x-python",
   "name": "python",
   "nbconvert_exporter": "python",
   "pygments_lexer": "ipython3",
   "version": "3.8.8"
  }
 },
 "nbformat": 4,
 "nbformat_minor": 5
}
