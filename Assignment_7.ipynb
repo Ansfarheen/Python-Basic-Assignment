{
 "cells": [
  {
   "cell_type": "markdown",
   "id": "4d743f4a",
   "metadata": {},
   "source": [
    "### 1. What is the name of the feature responsible for generating Regex objects?"
   ]
  },
  {
   "cell_type": "markdown",
   "id": "8433bec4",
   "metadata": {},
   "source": [
    "Ans. To use Regex ojects, there is a built-in packege called in re in python."
   ]
  },
  {
   "cell_type": "code",
   "execution_count": 1,
   "id": "99df68b5",
   "metadata": {},
   "outputs": [
    {
     "data": {
      "text/plain": [
       "re.compile(r'pattern', re.UNICODE)"
      ]
     },
     "execution_count": 1,
     "metadata": {},
     "output_type": "execute_result"
    }
   ],
   "source": [
    "import re\n",
    "re.compile('pattern') "
   ]
  },
  {
   "cell_type": "markdown",
   "id": "c9469780",
   "metadata": {},
   "source": [
    "### 2. Why do raw strings often appear in Regex objects?"
   ]
  },
  {
   "cell_type": "markdown",
   "id": "29e27173",
   "metadata": {},
   "source": [
    "Ans. Raw strings are used so that backslashes do not have to be escaped."
   ]
  },
  {
   "cell_type": "markdown",
   "id": "4c74ce6b",
   "metadata": {},
   "source": [
    "### 3. What is the return value of the search() method?"
   ]
  },
  {
   "cell_type": "markdown",
   "id": "d888cbc0",
   "metadata": {},
   "source": [
    "Ans. re.search() method either returns None (if the pattern doesn’t match), or a re.MatchObject that contains information about the matching part of the string."
   ]
  },
  {
   "cell_type": "markdown",
   "id": "32668367",
   "metadata": {},
   "source": [
    "### 4. From a Match item, how do you get the actual strings that match the pattern?"
   ]
  },
  {
   "cell_type": "code",
   "execution_count": 2,
   "id": "0308078c",
   "metadata": {},
   "outputs": [
    {
     "name": "stdout",
     "output_type": "stream",
     "text": [
      "June 24\n"
     ]
    }
   ],
   "source": [
    "import re\n",
    "regex = r\"([a-zA-Z]+) (\\d+)\"\n",
    "match = re.search(regex, \"I was born on June 24\")\n",
    "print(match.group())"
   ]
  },
  {
   "cell_type": "markdown",
   "id": "6d2d00b3",
   "metadata": {},
   "source": [
    "Ans. Using matchitem.group() , we can get the actual strings that match the pattern."
   ]
  },
  {
   "cell_type": "markdown",
   "id": "f97a26d4",
   "metadata": {},
   "source": [
    "### 5. In the regex which created from the r'(\\d\\d\\d)-(\\d\\d\\d-\\d\\d\\d\\d)', what does group zero cover? Group 2? Group 1?"
   ]
  },
  {
   "cell_type": "code",
   "execution_count": 3,
   "id": "002e535a",
   "metadata": {},
   "outputs": [
    {
     "name": "stdout",
     "output_type": "stream",
     "text": [
      "415-555-4242\n",
      "415\n",
      "555-4242\n"
     ]
    }
   ],
   "source": [
    "phoneNumRegex = re.compile(r'(\\d\\d\\d)-(\\d\\d\\d-\\d\\d\\d\\d)')\n",
    "mo = phoneNumRegex.search('My number is 415-555-4242.')\n",
    "print(mo.group(0))\n",
    "print(mo.group(1))\n",
    "print(mo.group(2))"
   ]
  },
  {
   "cell_type": "markdown",
   "id": "91b2d918",
   "metadata": {},
   "source": [
    "group(0) returns the entire substring that is matched with your regex.\n",
    "\n",
    "group(1) will give first pattern matched value.\n",
    "\n",
    "group(2) will give second pattern matched value."
   ]
  },
  {
   "cell_type": "markdown",
   "id": "dc577d32",
   "metadata": {},
   "source": [
    "### 6. In standard expression syntax, parentheses and intervals have distinct meanings. How can you tell a regex that you want it to fit real parentheses and periods?"
   ]
  },
  {
   "cell_type": "code",
   "execution_count": 4,
   "id": "033fdc6c",
   "metadata": {},
   "outputs": [],
   "source": [
    "# Ans.  \\(, , \\) and \\. tells a regex that we want it to fit real parentheses and periods."
   ]
  },
  {
   "cell_type": "markdown",
   "id": "32a5d711",
   "metadata": {},
   "source": [
    "### 7. The findall() method returns a string list or a list of string tuples. What causes it to return one of the two options?"
   ]
  },
  {
   "cell_type": "markdown",
   "id": "6455918a",
   "metadata": {},
   "source": [
    "Ans. If the regex has no groups, a list of strings is returned. If the regex has groups, a list of tuples of strings is \n",
    "returned."
   ]
  },
  {
   "cell_type": "markdown",
   "id": "8d452d9f",
   "metadata": {},
   "source": [
    "### 8. In standard expressions, what does the | character mean?"
   ]
  },
  {
   "cell_type": "markdown",
   "id": "14be74fd",
   "metadata": {},
   "source": [
    "Ans. The | character is called a pipe symbol.It matches any of the characters separated by it.\n",
    "E.g. batRegex = re.compile(r'man|mobile|copter|bat') matches either man or mobile or copter or bat. Whichever it will find it will return it."
   ]
  },
  {
   "cell_type": "code",
   "execution_count": 5,
   "id": "95c825db",
   "metadata": {},
   "outputs": [
    {
     "name": "stdout",
     "output_type": "stream",
     "text": [
      "man\n"
     ]
    }
   ],
   "source": [
    "import re\n",
    "batRegex = re.compile(r'man|mobile|copter|bat')\n",
    "mo = batRegex.search('Batman lost a wheel')\n",
    "print(mo.group()) \n"
   ]
  },
  {
   "cell_type": "markdown",
   "id": "4761a3ce",
   "metadata": {},
   "source": [
    "### 9. In regular expressions, what does the character ? stand for?"
   ]
  },
  {
   "cell_type": "markdown",
   "id": "0806af45",
   "metadata": {},
   "source": [
    "Ans. The ? character Stands for either zero or one match of the preceding group.\n",
    "E.g. batRegex = re.compile(r'Bat(s)?') matches 0 or 1 occurrence of 's' character."
   ]
  },
  {
   "cell_type": "code",
   "execution_count": 6,
   "id": "8876f1d6",
   "metadata": {},
   "outputs": [
    {
     "name": "stdout",
     "output_type": "stream",
     "text": [
      "Bats\n"
     ]
    }
   ],
   "source": [
    "import re\n",
    "batRegex = re.compile(r'Bat(s)?')\n",
    "mo = batRegex.search('Bats lost a wheel')\n",
    "print(mo.group()) "
   ]
  },
  {
   "cell_type": "markdown",
   "id": "2ae5010d",
   "metadata": {},
   "source": [
    "### 10.In regular expressions, what is the difference between the + and * characters?"
   ]
  },
  {
   "cell_type": "markdown",
   "id": "5b9a5775",
   "metadata": {},
   "source": [
    "Ans. '+' matches 1 or more occurrence and '*' matches 0 or more occurrence."
   ]
  },
  {
   "cell_type": "markdown",
   "id": "c0da0371",
   "metadata": {},
   "source": [
    "### 11. What is the difference between {4} and {4,5} in regular expression?"
   ]
  },
  {
   "cell_type": "markdown",
   "id": "a096308a",
   "metadata": {},
   "source": [
    "Ans. The {3} matches exactly three instances of the preceding group. \n",
    "     The {3,5} matches between three and five instances"
   ]
  },
  {
   "cell_type": "markdown",
   "id": "f0b3413f",
   "metadata": {},
   "source": [
    "### 12. What do you mean by the \\d, \\w, and \\s shorthand character classes signify in regular expressions?"
   ]
  },
  {
   "cell_type": "markdown",
   "id": "dd45fea3",
   "metadata": {},
   "source": [
    "Ans. \\d : any one digit i.e. [0-9].\n",
    "\n",
    "\\w : any one word/non-word character i.e. [a-zA-Z0-9_]\n",
    "\n",
    "\\s :  any one space/non-space character i.e. [ \\n\\r\\t\\f]"
   ]
  },
  {
   "cell_type": "markdown",
   "id": "508bfdbe",
   "metadata": {},
   "source": [
    "### 13. What do means by \\D, \\W, and \\S shorthand character classes signify in regular expressions?"
   ]
  },
  {
   "cell_type": "markdown",
   "id": "a04fa763",
   "metadata": {},
   "source": [
    "Ans. \\D : Match a single character except for a digit meaning not a[0-9]\n",
    "     \n",
    "     \\W : Match a single character that is not a word character meaning not a [a-zA-Z0-9_].\n",
    "        \n",
    "     \\S : Match a single character except for whitespace meaning not a  [\\n\\r\\t\\f]."
   ]
  },
  {
   "cell_type": "markdown",
   "id": "3a54aa75",
   "metadata": {},
   "source": [
    "### 14. What is the difference between .*? and .*?"
   ]
  },
  {
   "cell_type": "markdown",
   "id": "4cc98f2d",
   "metadata": {},
   "source": [
    "##### Ans. \n",
    "\n",
    ".* - > The dot-star uses greedy mode: It will always try to match as much text as possible.\n",
    "\n",
    ".*? - > To match any and all text in a non-greedy fashion, use the dot, star, and question mark (.*?). Like with braces, \n",
    "the question mark tells Python to match in a non-greedy way."
   ]
  },
  {
   "cell_type": "markdown",
   "id": "568dd56b",
   "metadata": {},
   "source": [
    "### 15. What is the syntax for matching both numbers and lowercase letters with a character class?"
   ]
  },
  {
   "cell_type": "markdown",
   "id": "83db8d85",
   "metadata": {},
   "source": [
    "Ans. Either use [0-9a-z] or [a-z0-9]. E.g. re.complile(r'[0-9a-z]')"
   ]
  },
  {
   "cell_type": "markdown",
   "id": "d1586e09",
   "metadata": {},
   "source": [
    "### 16. What is the procedure for making a normal expression in regex case insensitive?"
   ]
  },
  {
   "cell_type": "markdown",
   "id": "73b86d18",
   "metadata": {},
   "source": [
    "Ans. Passing re.I or re.IGNORECASE as the second argument to re.compile() will make the matching case insensitive."
   ]
  },
  {
   "cell_type": "code",
   "execution_count": 7,
   "id": "1dfd9417",
   "metadata": {},
   "outputs": [
    {
     "data": {
      "text/plain": [
       "'Machine'"
      ]
     },
     "execution_count": 7,
     "metadata": {},
     "output_type": "execute_result"
    }
   ],
   "source": [
    "casesen = re.compile(r'machine', re.I)\n",
    "casesen.search('Machine learning is a part of data science').group()"
   ]
  },
  {
   "cell_type": "markdown",
   "id": "30214778",
   "metadata": {},
   "source": [
    "### 17. What does the . character normally match? What does it match if re.DOTALL is passed as 2nd argument in re.compile()?"
   ]
  },
  {
   "cell_type": "markdown",
   "id": "fdc64bb6",
   "metadata": {},
   "source": [
    "Ans.\n",
    "The . character normally matches any character except the newline character. \n",
    "\n",
    "If re.DOTALL is passed as the second argument to re.compile(), then the dot will also match newline characters."
   ]
  },
  {
   "cell_type": "markdown",
   "id": "42e31345",
   "metadata": {},
   "source": [
    "### 18. If numReg = re.compile(r'\\d+'), what will numRegex.sub('X', '11 drummers, 10 pipers, five rings, 4 hen') return?"
   ]
  },
  {
   "cell_type": "code",
   "execution_count": 8,
   "id": "7a0bdb13",
   "metadata": {},
   "outputs": [
    {
     "data": {
      "text/plain": [
       "'X drummers, X pipers, five rings, X hen'"
      ]
     },
     "execution_count": 8,
     "metadata": {},
     "output_type": "execute_result"
    }
   ],
   "source": [
    "numReg = re.compile(r'\\d+')\n",
    "numReg.sub('X', '11 drummers, 10 pipers, five rings, 4 hen') "
   ]
  },
  {
   "cell_type": "markdown",
   "id": "71163159",
   "metadata": {},
   "source": [
    "### 19. What does passing re.VERBOSE as the 2nd argument to re.compile() allow to do?"
   ]
  },
  {
   "cell_type": "markdown",
   "id": "ee89531f",
   "metadata": {},
   "source": [
    "Ans. The re.VERBOSE argument allows you to add whitespace and comments to the string passed to re.compile()"
   ]
  },
  {
   "cell_type": "markdown",
   "id": "d97e980e",
   "metadata": {},
   "source": [
    "### 20. How would you write a regex that match a number with comma for every three digits? It must match the given following:\n",
    "\n",
    "'42'\n",
    "\n",
    "'1,234'\n",
    "\n",
    "'6,368,745'\n",
    "\n",
    "but not the following:\n",
    "\n",
    "'12,34,567' (which has only two digits between the commas)\n",
    "\n",
    "'1234' (which lacks commas)\n"
   ]
  },
  {
   "cell_type": "code",
   "execution_count": 9,
   "id": "3400a052",
   "metadata": {},
   "outputs": [
    {
     "name": "stdout",
     "output_type": "stream",
     "text": [
      "<re.Match object; span=(0, 2), match='42'>\n",
      "<re.Match object; span=(0, 5), match='1,234'>\n",
      "<re.Match object; span=(0, 9), match='6,368,745'>\n",
      "None\n",
      "None\n"
     ]
    }
   ],
   "source": [
    "reg1 = re.compile(r'^\\d{1,3}(,\\d{3})*$')\n",
    "print(reg1.search('42'))\n",
    "print(reg1.search('1,234'))\n",
    "print(reg1.search('6,368,745'))\n",
    "print(reg1.search('12,34,567'))\n",
    "print(reg1.search('1234'))"
   ]
  },
  {
   "cell_type": "markdown",
   "id": "0101f43f",
   "metadata": {},
   "source": [
    "### 21. How would you write a regex that matches the full name of someone whose last name is Watanabe? You can assume that the first name that comes before it will always be one word that begins with a capital letter. The regex must match the following:\n",
    "\n",
    "'Haruto Watanabe'\n",
    "\n",
    "'Alice Watanabe'\n",
    "\n",
    "'RoboCop Watanabe'\n",
    "\n",
    "but not the following:\n",
    "\n",
    "'haruto Watanabe' (where the first name is not capitalized)\n",
    "\n",
    "'Mr. Watanabe' (where the preceding word has a nonletter character)\n",
    "\n",
    "'Watanabe' (which has no first name)\n",
    "\n",
    "'Haruto watanabe' (where Watanabe is not capitalized)\n"
   ]
  },
  {
   "cell_type": "code",
   "execution_count": 10,
   "id": "31df407d",
   "metadata": {},
   "outputs": [
    {
     "name": "stdout",
     "output_type": "stream",
     "text": [
      "<re.Match object; span=(0, 15), match='Haruto Watanabe'>\n",
      "<re.Match object; span=(0, 14), match='Alice Watanabe'>\n",
      "<re.Match object; span=(4, 16), match='Cop Watanabe'>\n",
      "None\n",
      "None\n",
      "None\n",
      "None\n"
     ]
    }
   ],
   "source": [
    "name = re.compile(r'[A-Z][a-z]*\\sWatanabe')\n",
    "print(name.search('Haruto Watanabe'))\n",
    "print(name.search('Alice Watanabe'))\n",
    "print(name.search('RoboCop Watanabe'))\n",
    "print(name.search('haruto Watanabe'))\n",
    "print(name.search('Mr. Watanabe'))\n",
    "print(name.search('Watanabe'))\n",
    "print(name.search('Haruto watanabe'))"
   ]
  },
  {
   "cell_type": "markdown",
   "id": "d2e71e6d",
   "metadata": {},
   "source": [
    "### 22. How would you write a regex that matches a sentence where the first word is either Alice, Bob, or Carol; the second word is either eats, pets, or throws; the third word is apples, cats, or baseballs; and the sentence ends with a period? This regex should be case-insensitive. It must match the following:\n",
    "\n",
    "'Alice eats apples.'\n",
    "\n",
    "'Bob pets cats.'\n",
    "\n",
    "'Carol throws baseballs.'\n",
    "\n",
    "'Alice throws Apples.'\n",
    "\n",
    "'BOB EATS CATS.'\n",
    "\n",
    "but not the following:\n",
    "    \n",
    "'RoboCop eats apples.'\n",
    "\n",
    "'ALICE THROWS FOOTBALLS.'\n",
    "\n",
    "'Carol eats 7 cats.'\n"
   ]
  },
  {
   "cell_type": "code",
   "execution_count": 11,
   "id": "475a13f1",
   "metadata": {},
   "outputs": [
    {
     "name": "stdout",
     "output_type": "stream",
     "text": [
      "<re.Match object; span=(0, 18), match='Alice eats apples.'>\n",
      "<re.Match object; span=(0, 14), match='Bob pets cats.'>\n",
      "<re.Match object; span=(0, 23), match='Carol throws baseballs.'>\n",
      "<re.Match object; span=(0, 20), match='Alice throws Apples.'>\n",
      "<re.Match object; span=(0, 14), match='BOB EATS CATS.'>\n",
      "None\n",
      "None\n",
      "None\n"
     ]
    }
   ],
   "source": [
    "expr=re.compile(r'(Alice|Bob|Carol)\\s(eats|pets|throws)\\s(apples|cats|baseballs)\\.', re.IGNORECASE)\n",
    "print(expr.search('Alice eats apples.'))\n",
    "print(expr.search('Bob pets cats.'))\n",
    "print(expr.search('Carol throws baseballs.'))\n",
    "print(expr.search('Alice throws Apples.'))\n",
    "print(expr.search('BOB EATS CATS.'))\n",
    "print(expr.search('RoboCop eats apples.'))\n",
    "print(expr.search('ALICE THROWS FOOTBALLS.'))\n",
    "print(expr.search('Carol eats 7 cats.'))"
   ]
  },
  {
   "cell_type": "code",
   "execution_count": null,
   "id": "39b2507f",
   "metadata": {},
   "outputs": [],
   "source": []
  }
 ],
 "metadata": {
  "kernelspec": {
   "display_name": "Python 3",
   "language": "python",
   "name": "python3"
  },
  "language_info": {
   "codemirror_mode": {
    "name": "ipython",
    "version": 3
   },
   "file_extension": ".py",
   "mimetype": "text/x-python",
   "name": "python",
   "nbconvert_exporter": "python",
   "pygments_lexer": "ipython3",
   "version": "3.8.8"
  }
 },
 "nbformat": 4,
 "nbformat_minor": 5
}
