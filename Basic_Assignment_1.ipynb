{
 "cells": [
  {
   "cell_type": "markdown",
   "id": "45a47c2a",
   "metadata": {},
   "source": [
    "Q1. In the below elements which of them are values or an expression? eg:- values can be integer or string and expressions will be mathematical operators. \n",
    "\n",
    "*  => expression\n",
    "\n",
    "'hello' => value\n",
    "\n",
    "-87.8 => value\n",
    "\n",
    "-  => expression\n",
    "\n",
    "/  => expression\n",
    "\n",
    "+  => expression \n",
    "\n",
    "6  => value"
   ]
  },
  {
   "cell_type": "markdown",
   "id": "9f6c27e9",
   "metadata": {},
   "source": [
    "Q2. What is the difference between string and variable? \n",
    "\n",
    "Ans. String is a datatype and the collection of characters while Variables is the name given are used to the memory    locations where values are stored in the memory.\n",
    "     String are defined in single quotes('') or double quotes(\"\") while variables can store any values, like, int, float or string.\n",
    "     Eg. var= \"hello\"\n",
    "     here var is a variable which is holding string type value and \"hello\" is a string\n"
   ]
  },
  {
   "cell_type": "markdown",
   "id": "e66c3fb4",
   "metadata": {},
   "source": [
    "Q3. Describe three different data types. \n",
    "\n",
    "Ans. 1. string data type : string data type is a collection of characters enclosed within single quotes('') or double quotes(\"\"). Eg. \"hello\" , \"sunny\" are strings.\n",
    "     2. int data type :  It contains positive or negative whole numbers. Eg. 23,56,-12.\n",
    "     3. float data type : It is a real number with floating point representation. Eg. 34.56 ,89.444. "
   ]
  },
  {
   "cell_type": "code",
   "execution_count": 1,
   "id": "5bbd3bc0",
   "metadata": {},
   "outputs": [
    {
     "data": {
      "text/plain": [
       "str"
      ]
     },
     "execution_count": 1,
     "metadata": {},
     "output_type": "execute_result"
    }
   ],
   "source": [
    "type('sunny')"
   ]
  },
  {
   "cell_type": "code",
   "execution_count": 2,
   "id": "7c7854c4",
   "metadata": {},
   "outputs": [
    {
     "data": {
      "text/plain": [
       "int"
      ]
     },
     "execution_count": 2,
     "metadata": {},
     "output_type": "execute_result"
    }
   ],
   "source": [
    "type(23)"
   ]
  },
  {
   "cell_type": "code",
   "execution_count": 3,
   "id": "0b240016",
   "metadata": {},
   "outputs": [
    {
     "data": {
      "text/plain": [
       "float"
      ]
     },
     "execution_count": 3,
     "metadata": {},
     "output_type": "execute_result"
    }
   ],
   "source": [
    "type(34.56)"
   ]
  },
  {
   "cell_type": "markdown",
   "id": "444425a5",
   "metadata": {},
   "source": [
    "Q4. What is an expression made up of? What do all expressions do?\n",
    "\n",
    "Ans. An expression is a combination of operators and operands that is interpreted to produce some other value.\n",
    "     All expressions evaluated as per the precedence of its operators and produce some other value."
   ]
  },
  {
   "cell_type": "code",
   "execution_count": 18,
   "id": "c55f23ec",
   "metadata": {},
   "outputs": [
    {
     "name": "stdout",
     "output_type": "stream",
     "text": [
      "12\n"
     ]
    }
   ],
   "source": [
    "# Assignment statement\n",
    "a=5\n",
    "b=7\n",
    "\n",
    "#Expression\n",
    "c=a+b\n",
    "\n",
    "print(c)"
   ]
  },
  {
   "cell_type": "markdown",
   "id": "fbbdc58b",
   "metadata": {},
   "source": [
    "Q5. This assignment statements, like spam = 10. What is the difference between an expression and a statement?\n",
    "\n",
    "Ans. An expression is a combination of operators and operands that is interpreted to produce some other value whereas a          statement does something.\n",
    "     An assignemnt statemets assign a value to the variable while an expression evalues the value to a variable.\n",
    "     Eg. x+2 is an expression while x=2 is a statement which assigns 2 to x\n",
    "    \n"
   ]
  },
  {
   "cell_type": "markdown",
   "id": "485dd4f0",
   "metadata": {},
   "source": [
    "Q6. After running the following code, what does the variable bacon contain?\n",
    "bacon = 22\n",
    "bacon + 1\n",
    "\n",
    "Ans. The variable bacon contains 22."
   ]
  },
  {
   "cell_type": "code",
   "execution_count": 6,
   "id": "7ffa2e03",
   "metadata": {},
   "outputs": [
    {
     "name": "stdout",
     "output_type": "stream",
     "text": [
      "23\n",
      "22\n"
     ]
    }
   ],
   "source": [
    "bacon = 22\n",
    "print(bacon + 1)\n",
    "print(bacon)"
   ]
  },
  {
   "cell_type": "markdown",
   "id": "3883c770",
   "metadata": {},
   "source": [
    "Q7. What should the values of the following two terms be?\n",
    "'spam' + 'spamspam'\n",
    "'spam' * 3\n",
    "\n",
    "Ans. Value of these two terms is 'spamspamspam'."
   ]
  },
  {
   "cell_type": "code",
   "execution_count": 7,
   "id": "efdf8a7a",
   "metadata": {},
   "outputs": [
    {
     "data": {
      "text/plain": [
       "'spamspamspam'"
      ]
     },
     "execution_count": 7,
     "metadata": {},
     "output_type": "execute_result"
    }
   ],
   "source": [
    "'spam' + 'spamspam'"
   ]
  },
  {
   "cell_type": "code",
   "execution_count": 8,
   "id": "8b038e51",
   "metadata": {},
   "outputs": [
    {
     "data": {
      "text/plain": [
       "'spamspamspam'"
      ]
     },
     "execution_count": 8,
     "metadata": {},
     "output_type": "execute_result"
    }
   ],
   "source": [
    "'spam' * 3"
   ]
  },
  {
   "cell_type": "markdown",
   "id": "2917d3f2",
   "metadata": {},
   "source": [
    "Q8. Why is eggs a valid variable name while 100 is invalid?\n",
    "\n",
    "Ans. There are some naming restriction on variable name which says that variable name should not begin with a number. That's why eggs a valid variable name while 100 is invalid."
   ]
  },
  {
   "cell_type": "code",
   "execution_count": 11,
   "id": "c9918bfa",
   "metadata": {},
   "outputs": [],
   "source": [
    "eggs='hello'"
   ]
  },
  {
   "cell_type": "code",
   "execution_count": 12,
   "id": "abc82c71",
   "metadata": {},
   "outputs": [
    {
     "ename": "SyntaxError",
     "evalue": "cannot assign to literal (<ipython-input-12-0c8b4af6a362>, line 1)",
     "output_type": "error",
     "traceback": [
      "\u001b[1;36m  File \u001b[1;32m\"<ipython-input-12-0c8b4af6a362>\"\u001b[1;36m, line \u001b[1;32m1\u001b[0m\n\u001b[1;33m    100='hello'\u001b[0m\n\u001b[1;37m    ^\u001b[0m\n\u001b[1;31mSyntaxError\u001b[0m\u001b[1;31m:\u001b[0m cannot assign to literal\n"
     ]
    }
   ],
   "source": [
    "100='hello'"
   ]
  },
  {
   "cell_type": "markdown",
   "id": "df81cc7c",
   "metadata": {},
   "source": [
    "Q9. What three functions can be used to get the integer, floating-point number, or string version of a value?\n",
    "\n",
    "Ans. To get integer version of a value, we should use int(value) function.\n",
    "     To get float version of a value, we should use float(value) function.\n",
    "     To get string version of a value, we should use str(value) function.\n",
    "     "
   ]
  },
  {
   "cell_type": "code",
   "execution_count": 13,
   "id": "288ce170",
   "metadata": {},
   "outputs": [
    {
     "data": {
      "text/plain": [
       "10"
      ]
     },
     "execution_count": 13,
     "metadata": {},
     "output_type": "execute_result"
    }
   ],
   "source": [
    "a=10\n",
    "int(a)"
   ]
  },
  {
   "cell_type": "code",
   "execution_count": 14,
   "id": "fa0776a6",
   "metadata": {},
   "outputs": [
    {
     "data": {
      "text/plain": [
       "10.0"
      ]
     },
     "execution_count": 14,
     "metadata": {},
     "output_type": "execute_result"
    }
   ],
   "source": [
    "b=10\n",
    "float(b)"
   ]
  },
  {
   "cell_type": "code",
   "execution_count": 15,
   "id": "e98133b2",
   "metadata": {},
   "outputs": [
    {
     "data": {
      "text/plain": [
       "'10'"
      ]
     },
     "execution_count": 15,
     "metadata": {},
     "output_type": "execute_result"
    }
   ],
   "source": [
    "c=10\n",
    "str(10)"
   ]
  },
  {
   "cell_type": "markdown",
   "id": "3761259d",
   "metadata": {},
   "source": [
    "Q10. Why does this expression cause an error? How can you fix it?\n",
    "'I have eaten ' + 99 + ' burritos.'\n",
    "\n",
    "Ans. This expression causes error because we are conactenating string with int which is not allowed. To fix it, we should use 'I have eaten ' + '99' + ' burritos.'.\n"
   ]
  },
  {
   "cell_type": "code",
   "execution_count": 16,
   "id": "fb59baa8",
   "metadata": {},
   "outputs": [
    {
     "ename": "TypeError",
     "evalue": "can only concatenate str (not \"int\") to str",
     "output_type": "error",
     "traceback": [
      "\u001b[1;31m---------------------------------------------------------------------------\u001b[0m",
      "\u001b[1;31mTypeError\u001b[0m                                 Traceback (most recent call last)",
      "\u001b[1;32m<ipython-input-16-d24137131a5c>\u001b[0m in \u001b[0;36m<module>\u001b[1;34m\u001b[0m\n\u001b[1;32m----> 1\u001b[1;33m \u001b[1;34m'I have eaten '\u001b[0m \u001b[1;33m+\u001b[0m \u001b[1;36m99\u001b[0m \u001b[1;33m+\u001b[0m \u001b[1;34m' burritos.'\u001b[0m\u001b[1;33m\u001b[0m\u001b[1;33m\u001b[0m\u001b[0m\n\u001b[0m",
      "\u001b[1;31mTypeError\u001b[0m: can only concatenate str (not \"int\") to str"
     ]
    }
   ],
   "source": [
    "'I have eaten ' + 99 + ' burritos.'"
   ]
  },
  {
   "cell_type": "code",
   "execution_count": 17,
   "id": "417fb73a",
   "metadata": {},
   "outputs": [
    {
     "data": {
      "text/plain": [
       "'I have eaten 99 burritos.'"
      ]
     },
     "execution_count": 17,
     "metadata": {},
     "output_type": "execute_result"
    }
   ],
   "source": [
    "'I have eaten ' + '99' + ' burritos.'"
   ]
  },
  {
   "cell_type": "code",
   "execution_count": null,
   "id": "f728fed3",
   "metadata": {},
   "outputs": [],
   "source": []
  }
 ],
 "metadata": {
  "kernelspec": {
   "display_name": "Python 3",
   "language": "python",
   "name": "python3"
  },
  "language_info": {
   "codemirror_mode": {
    "name": "ipython",
    "version": 3
   },
   "file_extension": ".py",
   "mimetype": "text/x-python",
   "name": "python",
   "nbconvert_exporter": "python",
   "pygments_lexer": "ipython3",
   "version": "3.8.8"
  }
 },
 "nbformat": 4,
 "nbformat_minor": 5
}
