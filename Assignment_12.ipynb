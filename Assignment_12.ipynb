{
 "cells": [
  {
   "cell_type": "markdown",
   "id": "d5c6e03c",
   "metadata": {},
   "source": [
    "### 1. In what modes should the PdfFileReader() and PdfFileWriter() File objects will be opened?"
   ]
  },
  {
   "cell_type": "markdown",
   "id": "8c12b250",
   "metadata": {},
   "source": [
    "Ans. These files will be opened in binary mode. read binary (rb) for PdfFileReader() and write binary (wb) for PdfFileWriter()."
   ]
  },
  {
   "cell_type": "markdown",
   "id": "00fd61e4",
   "metadata": {},
   "source": [
    "### 2. From a PdfFileReader object, how do you get a Page object for page 5?"
   ]
  },
  {
   "cell_type": "markdown",
   "id": "5d2f4ac8",
   "metadata": {},
   "source": [
    "Ans. PdfFileReader.getPage(4) will return a Page object for page 5 as page 0 is the first page."
   ]
  },
  {
   "cell_type": "markdown",
   "id": "7861b505",
   "metadata": {},
   "source": [
    "### 3. What PdfFileReader variable stores the number of pages in the PDF document?"
   ]
  },
  {
   "cell_type": "markdown",
   "id": "66de4c7f",
   "metadata": {},
   "source": [
    "Ans. PdfFileReader.numPages variable stores the number of pages in the PDF document."
   ]
  },
  {
   "cell_type": "markdown",
   "id": "071f33c4",
   "metadata": {},
   "source": [
    "### 4. If a PdfFileReader object’s PDF is encrypted with the password swordfish, what must you do before you can obtain Page objects from it?"
   ]
  },
  {
   "cell_type": "markdown",
   "id": "0fa2494e",
   "metadata": {},
   "source": [
    "Ans. PdfFileReader.decrypt('swordfish') statement must be executed before we obtain Page objects from it."
   ]
  },
  {
   "cell_type": "markdown",
   "id": "83fd8865",
   "metadata": {},
   "source": [
    "### 5. What methods do you use to rotate a page?"
   ]
  },
  {
   "cell_type": "markdown",
   "id": "0b7b7784",
   "metadata": {},
   "source": [
    "Ans. The rotateClockwise() and rotateCounterClockwise() methods are used to rotate a page. Pass one of the integers 90, 180, or 270 to these methods."
   ]
  },
  {
   "cell_type": "markdown",
   "id": "c04e155c",
   "metadata": {},
   "source": [
    "### 6. What is the difference between a Run object and a Paragraph object?"
   ]
  },
  {
   "cell_type": "markdown",
   "id": "4c3ce1e0",
   "metadata": {},
   "source": [
    "Ans. Paragraph object : The Document object contains a list of Paragraph objects for the paragraphs in the document.A new paragraph begins whenever the user presses ENTER or RETURN while typing in a Word document.)\n",
    "Run object : A Run object is a contiguous run of text with the same style. A new Run object is needed whenever the text style changes."
   ]
  },
  {
   "cell_type": "markdown",
   "id": "762c3620",
   "metadata": {},
   "source": [
    "### 7. How do you obtain a list of Paragraph objects for a Document object that’s stored in a variable named doc?"
   ]
  },
  {
   "cell_type": "markdown",
   "id": "af289b60",
   "metadata": {},
   "source": [
    "Ans. doc.paragraphs will give a list of Paragraph objects for a Document object that’s stored in a variable named doc."
   ]
  },
  {
   "cell_type": "markdown",
   "id": "2c62df8e",
   "metadata": {},
   "source": [
    "### 8. What type of object has bold, underline, italic, strike, and outline variables?"
   ]
  },
  {
   "cell_type": "markdown",
   "id": "e1ade6f4",
   "metadata": {},
   "source": [
    "Ans. Run objects have bold, underline, italic, strike, and outline variables."
   ]
  },
  {
   "cell_type": "markdown",
   "id": "57698c98",
   "metadata": {},
   "source": [
    "### 9. What is the difference between False, True, and None for the bold variable?"
   ]
  },
  {
   "cell_type": "markdown",
   "id": "cc9ef79d",
   "metadata": {},
   "source": [
    "Ans. True : The attribute is always enabled, no matter what other styles are applied to the run.\n",
    "\n",
    "    False : The attribute is always disabled.\n",
    "    \n",
    "     None :  Defaults to whatever the run’s style is set to."
   ]
  },
  {
   "cell_type": "markdown",
   "id": "3004d83b",
   "metadata": {},
   "source": [
    "### 10. How do you create a Document object for a new Word document?"
   ]
  },
  {
   "cell_type": "markdown",
   "id": "f3205faf",
   "metadata": {},
   "source": [
    "Ans. By Calling the docx.Document() function."
   ]
  },
  {
   "cell_type": "markdown",
   "id": "09a727b7",
   "metadata": {},
   "source": [
    "### 11. How do you add a paragraph with the text 'Hello, there!' to a Document object stored in a variable named doc?"
   ]
  },
  {
   "cell_type": "code",
   "execution_count": 10,
   "id": "325c6623",
   "metadata": {},
   "outputs": [],
   "source": [
    "#!pip install python-docx\n",
    "\n",
    "import docx\n",
    "doc = docx.Document()\n",
    "\n",
    "doc.add_paragraph('Hello there!')\n",
    "doc.save('hellothere.docx')"
   ]
  },
  {
   "cell_type": "markdown",
   "id": "1594a575",
   "metadata": {},
   "source": [
    "### 12. What integers represent the levels of headings available in Word documents?"
   ]
  },
  {
   "cell_type": "markdown",
   "id": "289bc0c3",
   "metadata": {},
   "source": [
    "Ans. The arguments to add_heading() are a string of the heading text and an integer from 0 to 4. The integer 0 makes the heading the Title style, which is used for the top of the document. Integers 1 to 4 are for various heading levels, with 1 being the main heading and 4 the lowest subheading."
   ]
  },
  {
   "cell_type": "code",
   "execution_count": null,
   "id": "ce78ab12",
   "metadata": {},
   "outputs": [],
   "source": []
  }
 ],
 "metadata": {
  "kernelspec": {
   "display_name": "Python 3",
   "language": "python",
   "name": "python3"
  },
  "language_info": {
   "codemirror_mode": {
    "name": "ipython",
    "version": 3
   },
   "file_extension": ".py",
   "mimetype": "text/x-python",
   "name": "python",
   "nbconvert_exporter": "python",
   "pygments_lexer": "ipython3",
   "version": "3.8.8"
  }
 },
 "nbformat": 4,
 "nbformat_minor": 5
}
