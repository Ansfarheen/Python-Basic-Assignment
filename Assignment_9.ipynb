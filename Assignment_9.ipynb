{
 "cells": [
  {
   "cell_type": "markdown",
   "id": "a598cb82",
   "metadata": {},
   "source": [
    "# Q1. To what does a relative path refer?"
   ]
  },
  {
   "cell_type": "markdown",
   "id": "a95c6173",
   "metadata": {},
   "source": [
    "Ans. Relative path refers to the the path related to the present working directly(pwd). It starts at your current directory and never starts with a /. Suppose the absolute path is '/home/xyz/photo' and we are currently in xyz directory, so relative path will be simply 'photo'."
   ]
  },
  {
   "cell_type": "markdown",
   "id": "151a38b2",
   "metadata": {},
   "source": [
    "# Q2. What does an absolute path start with your operating system?"
   ]
  },
  {
   "cell_type": "markdown",
   "id": "153408b9",
   "metadata": {},
   "source": [
    "Ans. Absolute path starts with root directory (/)."
   ]
  },
  {
   "cell_type": "markdown",
   "id": "d8a55361",
   "metadata": {},
   "source": [
    "# Q3. What do the functions os.getcwd() and os.chdir() do?"
   ]
  },
  {
   "cell_type": "markdown",
   "id": "ab5df5d1",
   "metadata": {},
   "source": [
    "Ans. os.getcwd() returns a string which represents the current working directory.\n",
    "     os.chdir(path) method is used to change the current working directory to specified path. It takes only a single argument as new directory path."
   ]
  },
  {
   "cell_type": "markdown",
   "id": "a4f23b29",
   "metadata": {},
   "source": [
    "# Q4. What are the . and .. folders?"
   ]
  },
  {
   "cell_type": "markdown",
   "id": "64a55c18",
   "metadata": {},
   "source": [
    "Ans. . represents the current directory and .. represents the parent directory."
   ]
  },
  {
   "cell_type": "markdown",
   "id": "d65f47fd",
   "metadata": {},
   "source": [
    "# Q5. In C:\\bacon\\eggs\\spam.txt, which part is the dir name, and which part is the base name?"
   ]
  },
  {
   "cell_type": "markdown",
   "id": "47094d11",
   "metadata": {},
   "source": [
    "Ans. In C:\\bacon\\eggs\\spam.txt,'C:\\bacon\\eggs' is the dir name and 'spam.txt' is the base name."
   ]
  },
  {
   "cell_type": "markdown",
   "id": "1c5aa994",
   "metadata": {},
   "source": [
    "# Q6. What are the three “mode” arguments that can be passed to the open() function?"
   ]
  },
  {
   "cell_type": "markdown",
   "id": "9ca48604",
   "metadata": {},
   "source": [
    "Ans. Three mode arguments that can be passed to the open() function are:\n",
    "    'r' - read mode ; \n",
    "    'w' - write mode ; \n",
    "    'a' - append mode"
   ]
  },
  {
   "cell_type": "markdown",
   "id": "f93578de",
   "metadata": {},
   "source": [
    "# Q7. What happens if an existing file is opened in write mode?"
   ]
  },
  {
   "cell_type": "markdown",
   "id": "91275086",
   "metadata": {},
   "source": [
    "Ans. If an existing file is opened in write mode, its contents will be erased and the file will be treated as a new empty file."
   ]
  },
  {
   "cell_type": "markdown",
   "id": "ba20cce7",
   "metadata": {},
   "source": [
    "# Q8. How do you tell the difference between read() and readlines()?"
   ]
  },
  {
   "cell_type": "markdown",
   "id": "45b27ad4",
   "metadata": {},
   "source": [
    "Ans. read() returns the entire contents of the file into a string while readlines() returns a list of strings, where each string is a line from the file contents."
   ]
  },
  {
   "cell_type": "markdown",
   "id": "4e3eda72",
   "metadata": {},
   "source": [
    "# Q9. What data structure does a shelf value resemble?"
   ]
  },
  {
   "cell_type": "markdown",
   "id": "0d4bfc45",
   "metadata": {},
   "source": [
    "Ans. A shelf value resembles a dictionary value. It has keys and values, along with keys() and values() methods that work similarly to the dictionary methods of the same names."
   ]
  }
 ],
 "metadata": {
  "kernelspec": {
   "display_name": "Python 3",
   "language": "python",
   "name": "python3"
  },
  "language_info": {
   "codemirror_mode": {
    "name": "ipython",
    "version": 3
   },
   "file_extension": ".py",
   "mimetype": "text/x-python",
   "name": "python",
   "nbconvert_exporter": "python",
   "pygments_lexer": "ipython3",
   "version": "3.8.8"
  }
 },
 "nbformat": 4,
 "nbformat_minor": 5
}
