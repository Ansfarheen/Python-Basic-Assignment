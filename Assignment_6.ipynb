{
 "cells": [
  {
   "cell_type": "markdown",
   "id": "a97771b9",
   "metadata": {},
   "source": [
    "# Q1. What are escape characters, and how do you use them?"
   ]
  },
  {
   "cell_type": "markdown",
   "id": "484bf8c5",
   "metadata": {},
   "source": [
    "Ans. Escape characters are characters that are generally used to perform certain tasks and their usage in code directs the compiler to take a suitable action mapped to that character. An escape character is a backslash \\ followed by the character you want to insert.\n",
    "Prefixing a special character with \"\\\" turns it into an ordinary character. This is called \"escaping\". "
   ]
  },
  {
   "cell_type": "code",
   "execution_count": 4,
   "id": "eed9da37",
   "metadata": {},
   "outputs": [
    {
     "ename": "SyntaxError",
     "evalue": "invalid syntax (<ipython-input-4-53ee328c77a6>, line 2)",
     "output_type": "error",
     "traceback": [
      "\u001b[1;36m  File \u001b[1;32m\"<ipython-input-4-53ee328c77a6>\"\u001b[1;36m, line \u001b[1;32m2\u001b[0m\n\u001b[1;33m    print(\"hello \"Tom\"\")\u001b[0m\n\u001b[1;37m                  ^\u001b[0m\n\u001b[1;31mSyntaxError\u001b[0m\u001b[1;31m:\u001b[0m invalid syntax\n"
     ]
    }
   ],
   "source": [
    "#Example\n",
    "print(\"hello \"Tom\"\")"
   ]
  },
  {
   "cell_type": "markdown",
   "id": "4711f88c",
   "metadata": {},
   "source": [
    "To fix the above issue , we use escaping. We use \\\" character."
   ]
  },
  {
   "cell_type": "code",
   "execution_count": 5,
   "id": "096a96fc",
   "metadata": {},
   "outputs": [
    {
     "name": "stdout",
     "output_type": "stream",
     "text": [
      "hello \"Tom\"\n"
     ]
    }
   ],
   "source": [
    "print(\"hello \\\"Tom\\\"\")"
   ]
  },
  {
   "cell_type": "markdown",
   "id": "b54e08c2",
   "metadata": {},
   "source": [
    "# Q2. What do the escape characters n and t stand for?"
   ]
  },
  {
   "cell_type": "markdown",
   "id": "23d2d823",
   "metadata": {},
   "source": [
    "Ans. '\\n' stands for newline while '\\t' stands for tab."
   ]
  },
  {
   "cell_type": "markdown",
   "id": "2986a0c2",
   "metadata": {},
   "source": [
    "# Q3. What is the way to include backslash characters in a string?"
   ]
  },
  {
   "cell_type": "markdown",
   "id": "8054c586",
   "metadata": {},
   "source": [
    "Ans. By using '\\\\', we can include backslash characters in a string."
   ]
  },
  {
   "cell_type": "code",
   "execution_count": 1,
   "id": "add9cb2d",
   "metadata": {},
   "outputs": [
    {
     "name": "stdout",
     "output_type": "stream",
     "text": [
      "Hello this is \\ in a sentence\n"
     ]
    }
   ],
   "source": [
    "print('Hello this is \\\\ in a sentence')"
   ]
  },
  {
   "cell_type": "markdown",
   "id": "3e579d0d",
   "metadata": {},
   "source": [
    "# Q4. The string \"Howl's Moving Castle\" is a correct value. Why isn't the single quote character in the word Howl's not escaped a problem?\n"
   ]
  },
  {
   "cell_type": "markdown",
   "id": "511c4d6f",
   "metadata": {},
   "source": [
    "Ans. As the string starts with \" and ends \". When the string starts \" , its ending will be marks by \" ."
   ]
  },
  {
   "cell_type": "markdown",
   "id": "36e48035",
   "metadata": {},
   "source": [
    "# Q5. How do you write a string of newlines if you don't want to use the n character?"
   ]
  },
  {
   "cell_type": "markdown",
   "id": "ea466763",
   "metadata": {},
   "source": [
    "Ans. We can use \"end\" parameter in print()."
   ]
  },
  {
   "cell_type": "code",
   "execution_count": 2,
   "id": "2f6f4db0",
   "metadata": {},
   "outputs": [
    {
     "name": "stdout",
     "output_type": "stream",
     "text": [
      "Hello\n",
      "This is new line\n"
     ]
    }
   ],
   "source": [
    "print('Hello',end=\"\\n\")\n",
    "print('This is new line')"
   ]
  },
  {
   "cell_type": "markdown",
   "id": "27455b45",
   "metadata": {},
   "source": [
    "# Q6. What are the values of the given expressions?"
   ]
  },
  {
   "cell_type": "markdown",
   "id": "94ed3e8d",
   "metadata": {},
   "source": [
    "Ans. 'Hello, world!'[1] => 'e'   "
   ]
  },
  {
   "cell_type": "markdown",
   "id": "85c4f561",
   "metadata": {},
   "source": [
    "'Hello, world!'[0:5] => 'Hello'"
   ]
  },
  {
   "cell_type": "markdown",
   "id": "304ab2d0",
   "metadata": {},
   "source": [
    "'Hello, world!'[:5] => 'Hello'"
   ]
  },
  {
   "cell_type": "markdown",
   "id": "0b292c17",
   "metadata": {},
   "source": [
    "'Hello, world!'[3:] => 'lo, world!'"
   ]
  },
  {
   "cell_type": "code",
   "execution_count": 3,
   "id": "2f23f2a4",
   "metadata": {},
   "outputs": [
    {
     "data": {
      "text/plain": [
       "'e'"
      ]
     },
     "execution_count": 3,
     "metadata": {},
     "output_type": "execute_result"
    }
   ],
   "source": [
    "'Hello, world!'[1]"
   ]
  },
  {
   "cell_type": "code",
   "execution_count": 4,
   "id": "36107309",
   "metadata": {},
   "outputs": [
    {
     "data": {
      "text/plain": [
       "'Hello'"
      ]
     },
     "execution_count": 4,
     "metadata": {},
     "output_type": "execute_result"
    }
   ],
   "source": [
    "'Hello, world!'[0:5]"
   ]
  },
  {
   "cell_type": "code",
   "execution_count": 5,
   "id": "27315628",
   "metadata": {},
   "outputs": [
    {
     "data": {
      "text/plain": [
       "'Hello'"
      ]
     },
     "execution_count": 5,
     "metadata": {},
     "output_type": "execute_result"
    }
   ],
   "source": [
    "'Hello, world!'[:5]"
   ]
  },
  {
   "cell_type": "code",
   "execution_count": 6,
   "id": "5ed6f195",
   "metadata": {},
   "outputs": [
    {
     "data": {
      "text/plain": [
       "'lo, world!'"
      ]
     },
     "execution_count": 6,
     "metadata": {},
     "output_type": "execute_result"
    }
   ],
   "source": [
    "'Hello, world!'[3:]"
   ]
  },
  {
   "cell_type": "markdown",
   "id": "8560be67",
   "metadata": {},
   "source": [
    "# Q7. What are the values of the following expressions?\n",
    "\n",
    "Ans. 'Hello'.upper() => 'HELLO'"
   ]
  },
  {
   "cell_type": "markdown",
   "id": "6ce90c22",
   "metadata": {},
   "source": [
    "'Hello'.upper().isupper() => True"
   ]
  },
  {
   "cell_type": "markdown",
   "id": "735993a5",
   "metadata": {},
   "source": [
    "'Hello'.upper().lower() => 'hello'"
   ]
  },
  {
   "cell_type": "code",
   "execution_count": 7,
   "id": "1d5ced27",
   "metadata": {},
   "outputs": [
    {
     "data": {
      "text/plain": [
       "'HELLO'"
      ]
     },
     "execution_count": 7,
     "metadata": {},
     "output_type": "execute_result"
    }
   ],
   "source": [
    "'Hello'.upper()"
   ]
  },
  {
   "cell_type": "code",
   "execution_count": 8,
   "id": "57767341",
   "metadata": {},
   "outputs": [
    {
     "data": {
      "text/plain": [
       "True"
      ]
     },
     "execution_count": 8,
     "metadata": {},
     "output_type": "execute_result"
    }
   ],
   "source": [
    "'Hello'.upper().isupper()"
   ]
  },
  {
   "cell_type": "code",
   "execution_count": 9,
   "id": "e82f1fb3",
   "metadata": {},
   "outputs": [
    {
     "data": {
      "text/plain": [
       "'hello'"
      ]
     },
     "execution_count": 9,
     "metadata": {},
     "output_type": "execute_result"
    }
   ],
   "source": [
    "'Hello'.upper().lower()"
   ]
  },
  {
   "cell_type": "markdown",
   "id": "238d56a2",
   "metadata": {},
   "source": [
    "# Q8. What are the values of the following expressions?\n",
    "'Remember, remember, the fifth of July.'.split()\n",
    "'-'.join('There can only one.'.split())\n",
    "\n",
    "Ans. 'Remember, remember, the fifth of July.'.split() => ['Remember,', 'remember,', 'the', 'fifth', 'of', 'July.']    "
   ]
  },
  {
   "cell_type": "markdown",
   "id": "7d5acc47",
   "metadata": {},
   "source": [
    "'-'.join('There can only one.'.split())  =>  'There-can-only-one.'"
   ]
  },
  {
   "cell_type": "code",
   "execution_count": 11,
   "id": "e66cdcad",
   "metadata": {},
   "outputs": [
    {
     "data": {
      "text/plain": [
       "['Remember,', 'remember,', 'the', 'fifth', 'of', 'July.']"
      ]
     },
     "execution_count": 11,
     "metadata": {},
     "output_type": "execute_result"
    }
   ],
   "source": [
    "'Remember, remember, the fifth of July.'.split()\n"
   ]
  },
  {
   "cell_type": "code",
   "execution_count": 12,
   "id": "7f839412",
   "metadata": {},
   "outputs": [
    {
     "data": {
      "text/plain": [
       "'There-can-only-one.'"
      ]
     },
     "execution_count": 12,
     "metadata": {},
     "output_type": "execute_result"
    }
   ],
   "source": [
    "'-'.join('There can only one.'.split())"
   ]
  },
  {
   "cell_type": "markdown",
   "id": "22a42868",
   "metadata": {},
   "source": [
    "# Q9. What are the methods for right-justifying, left-justifying, and centering a string?\n",
    "\n",
    "Ans. For right-justifying , use rjust().\n",
    "     For left-justifying , use ljust().\n",
    "     For centering a string , use center()."
   ]
  },
  {
   "cell_type": "code",
   "execution_count": 14,
   "id": "62f5c62e",
   "metadata": {},
   "outputs": [
    {
     "data": {
      "text/plain": [
       "'***********************************Hello'"
      ]
     },
     "execution_count": 14,
     "metadata": {},
     "output_type": "execute_result"
    }
   ],
   "source": [
    "string1=\"Hello\"\n",
    "string1.rjust(40,'*')"
   ]
  },
  {
   "cell_type": "code",
   "execution_count": 15,
   "id": "3ccce6cb",
   "metadata": {},
   "outputs": [
    {
     "data": {
      "text/plain": [
       "'Hello***********************************'"
      ]
     },
     "execution_count": 15,
     "metadata": {},
     "output_type": "execute_result"
    }
   ],
   "source": [
    "string1=\"Hello\"\n",
    "string1.ljust(40,'*')"
   ]
  },
  {
   "cell_type": "code",
   "execution_count": 16,
   "id": "b91deb98",
   "metadata": {},
   "outputs": [
    {
     "data": {
      "text/plain": [
       "'*****************Hello******************'"
      ]
     },
     "execution_count": 16,
     "metadata": {},
     "output_type": "execute_result"
    }
   ],
   "source": [
    "string1=\"Hello\"\n",
    "string1.center(40,'*')"
   ]
  },
  {
   "cell_type": "markdown",
   "id": "4d52718d",
   "metadata": {},
   "source": [
    "# Q10. What is the best way to remove whitespace characters from the start or end?\n",
    "\n",
    "Ans lstrip() => removes white spaces from left of the string."
   ]
  },
  {
   "cell_type": "markdown",
   "id": "3a3811b4",
   "metadata": {},
   "source": [
    "rstrip() => removes white spaces from right of the string."
   ]
  },
  {
   "cell_type": "code",
   "execution_count": 6,
   "id": "08e41dad",
   "metadata": {},
   "outputs": [
    {
     "data": {
      "text/plain": [
       "'hello I am whitespace , remove me       '"
      ]
     },
     "execution_count": 6,
     "metadata": {},
     "output_type": "execute_result"
    }
   ],
   "source": [
    "string= '     hello I am whitespace , remove me       '\n",
    "string.lstrip()"
   ]
  },
  {
   "cell_type": "code",
   "execution_count": 7,
   "id": "41ee2aac",
   "metadata": {},
   "outputs": [
    {
     "data": {
      "text/plain": [
       "'     hello I am whitespace , remove me'"
      ]
     },
     "execution_count": 7,
     "metadata": {},
     "output_type": "execute_result"
    }
   ],
   "source": [
    "string= '     hello I am whitespace , remove me       '\n",
    "string.rstrip()"
   ]
  }
 ],
 "metadata": {
  "kernelspec": {
   "display_name": "Python 3",
   "language": "python",
   "name": "python3"
  },
  "language_info": {
   "codemirror_mode": {
    "name": "ipython",
    "version": 3
   },
   "file_extension": ".py",
   "mimetype": "text/x-python",
   "name": "python",
   "nbconvert_exporter": "python",
   "pygments_lexer": "ipython3",
   "version": "3.8.8"
  }
 },
 "nbformat": 4,
 "nbformat_minor": 5
}
