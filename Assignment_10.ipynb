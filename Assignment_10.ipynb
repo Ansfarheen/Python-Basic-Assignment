{
 "cells": [
  {
   "cell_type": "markdown",
   "id": "1b81f478",
   "metadata": {},
   "source": [
    "### Q1. How do you distinguish between shutil.copy() and shutil.copytree()?"
   ]
  },
  {
   "cell_type": "markdown",
   "id": "636f1f0f",
   "metadata": {},
   "source": [
    "Ans. shutil.copy(source, destination) will copy the file at the path source to the folder at the path destination and it copies only a single file.\n",
    "shutil.copytree(source, destination) will copy the folder at the path source, along with all of its files and subfolders, to the folder at the path destination."
   ]
  },
  {
   "cell_type": "markdown",
   "id": "1a2cacc0",
   "metadata": {},
   "source": [
    "### Q2. What function is used to rename files?"
   ]
  },
  {
   "cell_type": "markdown",
   "id": "88bbc044",
   "metadata": {},
   "source": [
    "Ans. os.rename(source, destination) function is used to rename files.\n",
    "Here source is source address of file to be renamed and destination is destination with the new name."
   ]
  },
  {
   "cell_type": "markdown",
   "id": "2f740656",
   "metadata": {},
   "source": [
    "### Q3. What is the difference between the delete functions in the send2trash and shutil modules?"
   ]
  },
  {
   "cell_type": "markdown",
   "id": "2a5649d0",
   "metadata": {},
   "source": [
    "Ans. shutil.rmtree(path) will remove the folder at path, and all files and folders it contains will also be deleted and  this function delete the files permanently. It irreversibly deletes files and folders, it can be dangerous to use. \n",
    "\n",
    "send2trash.send2trash(path) will send folders and files to your computer’s trash or recycle bin instead of permanently deleting them.If a bug in your program deletes something with send2trash you didn’t intend to delete, you can later restore it from the recycle bin."
   ]
  },
  {
   "cell_type": "markdown",
   "id": "a684981f",
   "metadata": {},
   "source": [
    "### Q4. ZipFile objects have a close() method just like File objects’ close() method. What ZipFile method is equivalent to File objects’ open() method?"
   ]
  },
  {
   "cell_type": "markdown",
   "id": "13a23133",
   "metadata": {},
   "source": [
    "zipfile.ZipFile() method is equivalent to File objects’ open() method."
   ]
  },
  {
   "cell_type": "code",
   "execution_count": 1,
   "id": "3619c5a2",
   "metadata": {},
   "outputs": [
    {
     "data": {
      "text/plain": [
       "['file/Assignment_4-converted.pdf',\n",
       " 'file/Assignment_8-converted.pdf',\n",
       " 'file/final20220128-214532.pdf',\n",
       " 'file/final20220128-214611.pdf']"
      ]
     },
     "execution_count": 1,
     "metadata": {},
     "output_type": "execute_result"
    }
   ],
   "source": [
    "import zipfile, os\n",
    "from pathlib import Path\n",
    "p = Path.home()\n",
    "\n",
    "exampleZip = zipfile.ZipFile(p / 'file.zip')\n",
    "exampleZip.namelist()"
   ]
  },
  {
   "cell_type": "markdown",
   "id": "44ab31d8",
   "metadata": {},
   "source": [
    "### Q5. Create a programme that searches a folder tree for files with a certain file extension (such as .pdf or .jpg). Copy these files from whatever location they are in to a new folder."
   ]
  },
  {
   "cell_type": "code",
   "execution_count": 2,
   "id": "208134b0",
   "metadata": {},
   "outputs": [
    {
     "name": "stdout",
     "output_type": "stream",
     "text": [
      "Looking in D:\\file for files with extensions of .mp4, .pdf, .jpg\n",
      "Coping D:\\file\\Assignment_4-converted.pdf to D:\\files\n",
      "Coping D:\\file\\Assignment_8-converted.pdf to D:\\files\n",
      "Coping D:\\file\\final20220128-214532.pdf to D:\\files\n",
      "Coping D:\\file\\final20220128-214611.pdf to D:\\files\n"
     ]
    }
   ],
   "source": [
    "import os, shutil\n",
    "\n",
    "def selectiveCopy(source, extensions, destFolder):\n",
    "    folder = os.path.abspath(source)\n",
    "    destFolder = os.path.abspath(destFolder)\n",
    "    print('Looking in', source, 'for files with extensions of', ', '.join(extensions))\n",
    "    for foldername, subfolders, filenames in os.walk(source):\n",
    "        for filename in filenames:\n",
    "            name, extension = os.path.splitext(filename)\n",
    "            if extension in extensions:\n",
    "                fileAbsPath = foldername + os.path.sep + filename\n",
    "                print('Coping', fileAbsPath, 'to', destFolder)\n",
    "                shutil.copy(fileAbsPath, destFolder)\n",
    "\n",
    "extensions = ['.mp4', '.pdf','.jpg']\n",
    "source = r'D:\\file'\n",
    "destFolder = r'D:\\files'\n",
    "selectiveCopy(source, extensions, destFolder)"
   ]
  },
  {
   "cell_type": "code",
   "execution_count": null,
   "id": "1d609dc4",
   "metadata": {},
   "outputs": [],
   "source": []
  }
 ],
 "metadata": {
  "kernelspec": {
   "display_name": "Python 3",
   "language": "python",
   "name": "python3"
  },
  "language_info": {
   "codemirror_mode": {
    "name": "ipython",
    "version": 3
   },
   "file_extension": ".py",
   "mimetype": "text/x-python",
   "name": "python",
   "nbconvert_exporter": "python",
   "pygments_lexer": "ipython3",
   "version": "3.8.8"
  }
 },
 "nbformat": 4,
 "nbformat_minor": 5
}
