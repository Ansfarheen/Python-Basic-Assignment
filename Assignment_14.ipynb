{
 "cells": [
  {
   "cell_type": "markdown",
   "id": "d65c3f90",
   "metadata": {},
   "source": [
    "### 1. What does RGBA stand for?"
   ]
  },
  {
   "cell_type": "markdown",
   "id": "6b91013b",
   "metadata": {},
   "source": [
    "Ans. RGBA stands for red, green, blue, and alpha.\n",
    "An RGBA value is a group of numbers that specify the amount of red, green, blue, and alpha (or transparency) in a color. Each of these component values is an integer from 0 (none at all) to 255 (the maximum). "
   ]
  },
  {
   "cell_type": "markdown",
   "id": "736e94a9",
   "metadata": {},
   "source": [
    "### 2. From the Pillow module, how do you get the RGBA value of any images?"
   ]
  },
  {
   "cell_type": "code",
   "execution_count": 1,
   "id": "066841f3",
   "metadata": {},
   "outputs": [
    {
     "data": {
      "text/plain": [
       "(0, 128, 0, 255)"
      ]
     },
     "execution_count": 1,
     "metadata": {},
     "output_type": "execute_result"
    }
   ],
   "source": [
    "from PIL import ImageColor\n",
    "ImageColor.getcolor('red', 'RGBA')\n",
    "ImageColor.getcolor('green', 'RGBA')"
   ]
  },
  {
   "cell_type": "markdown",
   "id": "9352aa8b",
   "metadata": {},
   "source": [
    "From the Pillow module,using ImageColor.getcolor() we get the RGBA value of any images."
   ]
  },
  {
   "cell_type": "markdown",
   "id": "856a4bb5",
   "metadata": {},
   "source": [
    "### 3. What is a box tuple, and how does it work?"
   ]
  },
  {
   "cell_type": "markdown",
   "id": "3c229779",
   "metadata": {},
   "source": [
    "Ans. Box tuple is a tuple of four integer coordinates that represent a rectangular region in an image. The four integers are : the left edge x-coordinate, the top edge y-coordinate, the width, and the height, respectively."
   ]
  },
  {
   "cell_type": "markdown",
   "id": "085bad32",
   "metadata": {},
   "source": [
    "### 4. Use your image and load in notebook then, How can you find out the width and height of an Image object?\n"
   ]
  },
  {
   "cell_type": "code",
   "execution_count": 9,
   "id": "956ef0a7",
   "metadata": {},
   "outputs": [
    {
     "data": {
      "text/plain": [
       "(284, 177)"
      ]
     },
     "execution_count": 9,
     "metadata": {},
     "output_type": "execute_result"
    }
   ],
   "source": [
    "from PIL import Image\n",
    "myImg = Image.open('flower.jfif')\n",
    "w,h = myImg.size\n",
    "w,h"
   ]
  },
  {
   "cell_type": "markdown",
   "id": "2ee4ef03",
   "metadata": {},
   "source": [
    "### 5. What method would you call to get Image object for a 100×100 image, excluding the lower-left quarter of it?"
   ]
  },
  {
   "cell_type": "markdown",
   "id": "8180a4c0",
   "metadata": {},
   "source": [
    "Ans. ImageObject.crop((0, 50, 50, 50)) would get Image object for a 100×100 image, excluding the lower-left quarter of it."
   ]
  },
  {
   "cell_type": "markdown",
   "id": "451be445",
   "metadata": {},
   "source": [
    "### 6. After making changes to an Image object, how could you save it as an image file?"
   ]
  },
  {
   "cell_type": "markdown",
   "id": "0020c96a",
   "metadata": {},
   "source": [
    "Ans. By Calling the imageObj.save('image.png') method of the Image object,we use to save it as image file."
   ]
  },
  {
   "cell_type": "markdown",
   "id": "826d88b7",
   "metadata": {},
   "source": [
    "### 7. What module contains Pillow’s shape-drawing code?"
   ]
  },
  {
   "cell_type": "markdown",
   "id": "a7368277",
   "metadata": {},
   "source": [
    "Ans. Pillow's ImageDraw module contains shape-drawing code."
   ]
  },
  {
   "cell_type": "markdown",
   "id": "1d2dd6dd",
   "metadata": {},
   "source": [
    "### 8. Image objects do not have drawing methods. What kind of object does? How do you get this kind of object?"
   ]
  },
  {
   "cell_type": "markdown",
   "id": "072a323f",
   "metadata": {},
   "source": [
    "Ans. ImageDraw objects have shape-drawing methods such as point(), line(), or rectangle(). They are returned by passing the Image object to the ImageDraw.Draw() function."
   ]
  },
  {
   "cell_type": "code",
   "execution_count": 1,
   "id": "6e44c524",
   "metadata": {},
   "outputs": [],
   "source": [
    "from PIL import Image, ImageDraw\n",
    "im = Image.new('RGBA', (200, 200), 'white')\n",
    "draw = ImageDraw.Draw(im)\n",
    "draw.line([(0, 0), (199, 0), (199, 199), (0, 199), (0, 0)], fill='black')"
   ]
  }
 ],
 "metadata": {
  "kernelspec": {
   "display_name": "Python 3",
   "language": "python",
   "name": "python3"
  },
  "language_info": {
   "codemirror_mode": {
    "name": "ipython",
    "version": 3
   },
   "file_extension": ".py",
   "mimetype": "text/x-python",
   "name": "python",
   "nbconvert_exporter": "python",
   "pygments_lexer": "ipython3",
   "version": "3.8.8"
  }
 },
 "nbformat": 4,
 "nbformat_minor": 5
}
