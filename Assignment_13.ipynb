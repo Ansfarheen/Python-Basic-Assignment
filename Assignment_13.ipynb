{
 "cells": [
  {
   "cell_type": "markdown",
   "id": "e3f0939b",
   "metadata": {},
   "source": [
    "### 1. What advantages do Excel spreadsheets have over CSV spreadsheets?"
   ]
  },
  {
   "cell_type": "markdown",
   "id": "41fc23c7",
   "metadata": {},
   "source": [
    "Ans. Advantages of Excel Spreadsheets over CSV spreadsheets:\n",
    "\n",
    "        1. Excel Spreadsheet is a binary file that holds information about all the worksheets in a workbook while CSV spreadsheet is a plain text format with a series of values separated by commas.\n",
    "        \n",
    "        2. An Excel not only stores data but can also do operations on the data while CSV file stores data but does not contain formatting, formulas, macros etc.\n",
    "        \n",
    "        3. Reading large files user is much easier in Excel for the end user. Also, you can have additional functions like selecting individual cells for import, convert dates and time automatically, reading formulas and their results, filters, sorting, etc.While Reading large files in CSV will not be as easier as Excel for the End User.\n",
    "        \n",
    "        4. Apart from text, data can also be stored in form of charts and graphs while CSV can not store charts or graphs."
   ]
  },
  {
   "cell_type": "markdown",
   "id": "3ea156b7",
   "metadata": {},
   "source": [
    "### 2. What do you pass to csv.reader() and csv.writer() to create reader and writer objects?"
   ]
  },
  {
   "cell_type": "markdown",
   "id": "ff9693a3",
   "metadata": {},
   "source": [
    "Ans. We pass file object which we get from file.open() to csv.reader() and csv.writer() to create reader and writer objects.\n",
    "\n",
    "file_object= open('file_name')\n",
    "\n",
    "csv_file=csv.reader(file_object)\n",
    "\n",
    "csv_f=csv.writer(file_object)"
   ]
  },
  {
   "cell_type": "markdown",
   "id": "dbaef808",
   "metadata": {},
   "source": [
    "### 3. What modes do File objects for reader and writer objects need to be opened in?"
   ]
  },
  {
   "cell_type": "markdown",
   "id": "7975e061",
   "metadata": {},
   "source": [
    "File objects need to be opened in read-binary ('rb') for Reader objects and write-binary ('wb') for Writer objects"
   ]
  },
  {
   "cell_type": "markdown",
   "id": "11a6aa8c",
   "metadata": {},
   "source": [
    "### 4. What method takes a list argument and writes it to a CSV file?"
   ]
  },
  {
   "cell_type": "code",
   "execution_count": 3,
   "id": "5af098ed",
   "metadata": {},
   "outputs": [],
   "source": [
    "import csv\n",
    "fields = ['Name', 'Branch', 'Year', 'CGPA']\n",
    "with open('filename.csv', 'w') as csvfile:\n",
    "    \n",
    "    csvwriter = csv.writer(csvfile)\n",
    "    csvwriter.writerow(fields)"
   ]
  },
  {
   "cell_type": "markdown",
   "id": "0865bfe5",
   "metadata": {},
   "source": [
    "The writerow() takes a list argument and writes it to a CSV file."
   ]
  },
  {
   "cell_type": "markdown",
   "id": "6a946fb9",
   "metadata": {},
   "source": [
    "### 5. What do the keyword arguments delimiter and line terminator do?"
   ]
  },
  {
   "cell_type": "markdown",
   "id": "0dbbef60",
   "metadata": {},
   "source": [
    "Ans. The delimiter is the character that appears between cells on a row. By default, the delimiter for a CSV file is a comma. The line terminator is the character that comes at the end of a row. By default, the line terminator is a newline."
   ]
  },
  {
   "cell_type": "markdown",
   "id": "0d1ca113",
   "metadata": {},
   "source": [
    "### 6. What function takes a string of JSON data and returns a Python data structure?"
   ]
  },
  {
   "cell_type": "markdown",
   "id": "6cb15072",
   "metadata": {},
   "source": [
    "Ans. json.loads() takes a string of JSON data and returns a Python data structure."
   ]
  },
  {
   "cell_type": "markdown",
   "id": "07ea2fea",
   "metadata": {},
   "source": [
    "### 7. What function takes a Python data structure and returns a string of JSON data?"
   ]
  },
  {
   "cell_type": "markdown",
   "id": "7be6ce4c",
   "metadata": {},
   "source": [
    "Ans. json.dumps() takes a Python data structure and returns a string of JSON data."
   ]
  },
  {
   "cell_type": "code",
   "execution_count": null,
   "id": "d1810439",
   "metadata": {},
   "outputs": [],
   "source": []
  }
 ],
 "metadata": {
  "kernelspec": {
   "display_name": "Python 3",
   "language": "python",
   "name": "python3"
  },
  "language_info": {
   "codemirror_mode": {
    "name": "ipython",
    "version": 3
   },
   "file_extension": ".py",
   "mimetype": "text/x-python",
   "name": "python",
   "nbconvert_exporter": "python",
   "pygments_lexer": "ipython3",
   "version": "3.8.8"
  }
 },
 "nbformat": 4,
 "nbformat_minor": 5
}
